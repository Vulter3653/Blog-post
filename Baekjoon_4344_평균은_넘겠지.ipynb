{
  "nbformat": 4,
  "nbformat_minor": 0,
  "metadata": {
    "colab": {
      "provenance": [],
      "authorship_tag": "ABX9TyNf8Ev+86eJQ1ZKwgLeAuqo",
      "include_colab_link": true
    },
    "kernelspec": {
      "name": "python3",
      "display_name": "Python 3"
    },
    "language_info": {
      "name": "python"
    }
  },
  "cells": [
    {
      "cell_type": "markdown",
      "metadata": {
        "id": "view-in-github",
        "colab_type": "text"
      },
      "source": [
        "<a href=\"https://colab.research.google.com/github/Vulter3653/Blog-post/blob/main/Baekjoon_4344_%ED%8F%89%EA%B7%A0%EC%9D%80_%EB%84%98%EA%B2%A0%EC%A7%80.ipynb\" target=\"_parent\"><img src=\"https://colab.research.google.com/assets/colab-badge.svg\" alt=\"Open In Colab\"/></a>"
      ]
    },
    {
      "cell_type": "code",
      "execution_count": 38,
      "metadata": {
        "colab": {
          "base_uri": "https://localhost:8080/"
        },
        "id": "uYv6Pe3vgWK7",
        "outputId": "718a93d5-695f-4d1f-bcf6-c054c117207f"
      },
      "outputs": [
        {
          "output_type": "stream",
          "name": "stdout",
          "text": [
            "5\n",
            "5 50 50 70 80 100\n",
            "40.0%\n",
            "7 100 95 90 80 70 60 50\n",
            "57.143%\n",
            "3 70 90 80\n",
            "33.333%\n",
            "3 70 90 81\n",
            "66.667%\n",
            "9 100 99 98 97 96 95 94 93 91\n",
            "55.556000000000004%\n"
          ]
        }
      ],
      "source": [
        "for _ in range(int(input())):\n",
        "  a = list(map(int,(input().rstrip().split()[1:])))\n",
        "\n",
        "  mean_list = sum(a)/len(a)\n",
        "  count = 0\n",
        "\n",
        "  for i in range(len(a)):\n",
        "    if a[i] > mean_list:\n",
        "      count+=1\n",
        "\n",
        "  print(str(round(count/len(a)*100,3))+\"%\")"
      ]
    }
  ]
}